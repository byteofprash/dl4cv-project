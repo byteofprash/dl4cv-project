{
 "cells": [
  {
   "cell_type": "code",
   "execution_count": 4,
   "metadata": {
    "collapsed": false
   },
   "outputs": [],
   "source": [
    "%matplotlib inline\n",
    "import numpy as np\n",
    "import matplotlib.pyplot as plt \n",
    "\n",
    "import torch\n",
    "\n",
    "import torch.nn as nn\n",
    "import torch.optim as optim\n",
    "from torch.optim.lr_scheduler import StepLR\n",
    "import torchvision.transforms as transforms\n",
    "from torch.utils.data import  Dataset, TensorDataset, DataLoader\n",
    "\n",
    "\n",
    "import lib.pytorch_trainer as ptt\n",
    "\n",
    "from src.imgnet_utils import denormalize\n",
    "\n",
    "from src.data_loader import _create_dataLoader\n",
    "\n",
    "from src.Dataset import KaggleSafeDriverDataset\n",
    "\n",
    "from src.plot_utils import (plot_classes, plot_distribution,\n",
    "                            statistical_analysis_image, classDistribution,\n",
    "                            plot_metrics,visualize_predictions,\n",
    "                            plot_cm_train_valid,plot_layers_weight)\n",
    "      \n",
    "from src.convnet_models import (MyResNet, MyInception, MyDenseNet,MyVgg16Net)\n",
    "from src.extractor_utils import (predict, getPrediction,save_prediction,\n",
    "                                 load_prediction, torch_summarize,RandomSearch)\n",
    "\n",
    "from utils.utils import (create_submission ,metrics2csv)"
   ]
  },
  {
   "cell_type": "markdown",
   "metadata": {},
   "source": [
    "# Making results reproducible"
   ]
  },
  {
   "cell_type": "code",
   "execution_count": 5,
   "metadata": {
    "collapsed": true
   },
   "outputs": [],
   "source": [
    "torch.backends.cudnn.deterministic = True\n",
    "seed=1719\n",
    "np.random.seed(seed)\n",
    "torch.manual_seed(seed)\n",
    "torch.manual_seed(seed)\n",
    "torch.cuda.manual_seed_all(seed) "
   ]
  },
  {
   "cell_type": "markdown",
   "metadata": {},
   "source": [
    "# Checking for resources avaliables\n",
    "\n",
    "Checking if the GPU is free. "
   ]
  },
  {
   "cell_type": "code",
   "execution_count": 6,
   "metadata": {
    "collapsed": false
   },
   "outputs": [
    {
     "name": "stdout",
     "output_type": "stream",
     "text": [
      "              total        used        free      shared  buff/cache   available\n",
      "Mem:            29G        953M         25G        9.2M        3.1G         28G\n",
      "Swap:            0B          0B          0B\n",
      "Sun Feb  4 21:39:47 2018       \n",
      "+-----------------------------------------------------------------------------+\n",
      "| NVIDIA-SMI 390.12                 Driver Version: 390.12                    |\n",
      "|-------------------------------+----------------------+----------------------+\n",
      "| GPU  Name        Persistence-M| Bus-Id        Disp.A | Volatile Uncorr. ECC |\n",
      "| Fan  Temp  Perf  Pwr:Usage/Cap|         Memory-Usage | GPU-Util  Compute M. |\n",
      "|===============================+======================+======================|\n",
      "|   0  Tesla K80           Off  | 00000000:00:04.0 Off |                    0 |\n",
      "| N/A   38C    P8    31W / 149W |     27MiB / 11441MiB |      0%      Default |\n",
      "+-------------------------------+----------------------+----------------------+\n",
      "                                                                               \n",
      "+-----------------------------------------------------------------------------+\n",
      "| Processes:                                                       GPU Memory |\n",
      "|  GPU       PID   Type   Process name                             Usage      |\n",
      "|=============================================================================|\n",
      "|    0      1899      G   /usr/lib/xorg/Xorg                            15MiB |\n",
      "+-----------------------------------------------------------------------------+\n"
     ]
    }
   ],
   "source": [
    "!free -h\n",
    "!nvidia-smi"
   ]
  },
  {
   "cell_type": "code",
   "execution_count": 7,
   "metadata": {
    "collapsed": false
   },
   "outputs": [
    {
     "name": "stdout",
     "output_type": "stream",
     "text": [
      "1 GPU's available:\n",
      "\n",
      "cpu_count: 8\n"
     ]
    }
   ],
   "source": [
    "print(\"{} GPU's available:\".format(torch.cuda.device_count()) )\n",
    "cpu_count = torch.multiprocessing.cpu_count()\n",
    "print(\"\\ncpu_count: {}\".format(cpu_count))"
   ]
  },
  {
   "cell_type": "code",
   "execution_count": 8,
   "metadata": {
    "collapsed": false
   },
   "outputs": [
    {
     "name": "stdout",
     "output_type": "stream",
     "text": [
      "Using only one GPU\n"
     ]
    }
   ],
   "source": [
    "use_gpu = True\n",
    "use_DataParalel= False\n",
    "use_CPU= False       \n",
    "\n",
    "if use_gpu:\n",
    "    if use_DataParalel: \n",
    "        print(\"Using DataParalel in all {} GPUS\".format(torch.cuda.device_count()))\n",
    "    else:\n",
    "        print('Using only one GPU') \n",
    "if use_CPU:         # http://pytorch.org/tutorials/beginner/former_torchies/parallelism_tutorial.html \n",
    "    print(\"Using {} CPU's\".format(cpu_count))"
   ]
  },
  {
   "cell_type": "markdown",
   "metadata": {},
   "source": [
    "\n",
    "# Path to features"
   ]
  },
  {
   "cell_type": "code",
   "execution_count": 9,
   "metadata": {
    "collapsed": true
   },
   "outputs": [],
   "source": [
    "path2features= \"./features/\" "
   ]
  },
  {
   "cell_type": "markdown",
   "metadata": {},
   "source": [
    "# RandomSearch on hyperparameters"
   ]
  },
  {
   "cell_type": "code",
   "execution_count": 10,
   "metadata": {
    "collapsed": true
   },
   "outputs": [],
   "source": [
    "# Flag to optimze hyperparameters\n",
    "hiper_tunning = True"
   ]
  },
  {
   "cell_type": "markdown",
   "metadata": {},
   "source": [
    "# Choosing Model"
   ]
  },
  {
   "cell_type": "code",
   "execution_count": 11,
   "metadata": {
    "collapsed": false
   },
   "outputs": [
    {
     "name": "stdout",
     "output_type": "stream",
     "text": [
      "Using DenseNet model\n"
     ]
    }
   ],
   "source": [
    "use_resnet = False\n",
    "use_inception = False\n",
    "use_denseNet = True\n",
    "use_vgg16 = False\n",
    "if use_resnet:\n",
    "    print('Using ResNet model')\n",
    "    model_name = \"ResNet\"\n",
    "    model = MyResNet()\n",
    "elif use_inception:\n",
    "    print('Using Inception model')\n",
    "    model_name = \"Inception\"\n",
    "    model = MyInception()\n",
    "elif use_denseNet:\n",
    "    print('Using DenseNet model')\n",
    "    model_name = \"DenseNet\"    \n",
    "    model = MyDenseNet() \n",
    "elif use_vgg16:\n",
    "    print('Using VGG16 model')\n",
    "    model_name = \"vgg16\"    \n",
    "    model = MyVgg16Net()"
   ]
  },
  {
   "cell_type": "code",
   "execution_count": 12,
   "metadata": {
    "collapsed": false
   },
   "outputs": [
    {
     "name": "stdout",
     "output_type": "stream",
     "text": [
      "Using GPU\n"
     ]
    }
   ],
   "source": [
    "if use_gpu:\n",
    "    if use_DataParalel:\n",
    "        print(\"Using all GPU's \")\n",
    "        model.mrnc = torch.nn.DataParallel(model.mrnc) #device_ids=[1,3]\n",
    "        model.mrnc = model.mrnc.cuda()\n",
    "        model.mrnd = torch.nn.DataParallel(model.mrnd) #device_ids=[1,3]\n",
    "        model.mrnd = model.mrnd.cuda()\n",
    "    else:\n",
    "        print('Using GPU')# {}'.format(device_id))\n",
    "        model.cuda()\n",
    "else:\n",
    "    print(\"Using CPU's\")"
   ]
  },
  {
   "cell_type": "markdown",
   "metadata": {},
   "source": [
    "# Loading features"
   ]
  },
  {
   "cell_type": "code",
   "execution_count": 13,
   "metadata": {
    "collapsed": false
   },
   "outputs": [
    {
     "name": "stdout",
     "output_type": "stream",
     "text": [
      "MyDenseNetDens(\n",
      "  (dens1): Linear(in_features=2208, out_features=512)\n",
      "  (dens2): Linear(in_features=512, out_features=128)\n",
      "  (dens3): Linear(in_features=128, out_features=10)\n",
      ")\n"
     ]
    }
   ],
   "source": [
    "model_name\n",
    "print(model.mrnd)"
   ]
  },
  {
   "cell_type": "markdown",
   "metadata": {},
   "source": [
    "### Load the features which were already extracted from the image using the model. \n",
    "* This has been run with the first (n-1) layers of the network. The last layer is our classifier"
   ]
  },
  {
   "cell_type": "code",
   "execution_count": 14,
   "metadata": {
    "collapsed": false
   },
   "outputs": [
    {
     "name": "stdout",
     "output_type": "stream",
     "text": [
      "Loaded features with shapes: \n",
      "\n",
      "\n",
      "train:\n",
      "pred torch.Size([17940, 2208]), true torch.Size([17940])\n",
      "\n",
      "valid:\n",
      "pred torch.Size([4484, 2208]), true torch.Size([4484])\n",
      "\n",
      "test:\n",
      "pred torch.Size([79726, 2208]), true torch.Size([79726])\n"
     ]
    }
   ],
   "source": [
    "load_feat= load_prediction(path2features,model_name)"
   ]
  },
  {
   "cell_type": "code",
   "execution_count": 15,
   "metadata": {
    "collapsed": false
   },
   "outputs": [
    {
     "data": {
      "text/plain": [
       "(torch.Size([17940, 2208]), torch.Size([17940]))"
      ]
     },
     "execution_count": 15,
     "metadata": {},
     "output_type": "execute_result"
    }
   ],
   "source": [
    "load_feat['train'][0].shape,load_feat['train'][1].shape"
   ]
  },
  {
   "cell_type": "code",
   "execution_count": 16,
   "metadata": {
    "collapsed": false
   },
   "outputs": [],
   "source": [
    "conv_dset ={\n",
    "'train': TensorDataset(load_feat['train'][0], load_feat['train'][1]),\n",
    "'valid': TensorDataset(load_feat['valid'][0], load_feat['valid'][1]),\n",
    "'test': TensorDataset(load_feat['test'][0], load_feat['test'][1])\n",
    "}"
   ]
  },
  {
   "cell_type": "markdown",
   "metadata": {},
   "source": [
    "# Creating Dataloaders"
   ]
  },
  {
   "cell_type": "code",
   "execution_count": 17,
   "metadata": {
    "collapsed": true
   },
   "outputs": [],
   "source": [
    "batch_size= 32\n",
    "\n",
    "dset_loaders_convnet = _create_dataLoader(conv_dset, batch_size, \n",
    "                        pin_memory=False, use_shuffle= True)"
   ]
  },
  {
   "cell_type": "code",
   "execution_count": 18,
   "metadata": {
    "collapsed": false
   },
   "outputs": [
    {
     "data": {
      "text/plain": [
       "{'test': 2492, 'train': 561, 'valid': 141}"
      ]
     },
     "execution_count": 18,
     "metadata": {},
     "output_type": "execute_result"
    }
   ],
   "source": [
    "dset_convnet_sizes = {x: len(dset_loaders_convnet[x]) for x in ['train','valid', 'test']} \n",
    "dset_convnet_sizes"
   ]
  },
  {
   "cell_type": "markdown",
   "metadata": {},
   "source": [
    "# Trainning Model"
   ]
  },
  {
   "cell_type": "code",
   "execution_count": 19,
   "metadata": {
    "collapsed": true
   },
   "outputs": [],
   "source": [
    "if hiper_tunning: \n",
    "    model_name += 'RandomSearch' \n",
    "\n",
    "path2saveModel = './models/'+model_name+'DistractDriver' \n",
    "\n",
    "savebest = ptt.ModelCheckpoint(path2saveModel,reset=True, verbose=0)"
   ]
  },
  {
   "cell_type": "code",
   "execution_count": 20,
   "metadata": {
    "collapsed": false
   },
   "outputs": [],
   "source": [
    "num_epochs = 50\n",
    "loss_fn = nn.CrossEntropyLoss()\n",
    "#params = filter(lambda p: p.requires_grad, model.parameters())\n",
    "# print(params)\n",
    "# for e in params:\n",
    "#     print(e)\n",
    "\n",
    "#optimizer =  optim.Adam(model.mrnd.parameters(), lr=1e-3,weight_decay=0)\n",
    "optimizer = optim.SGD(model.mrnd.parameters(),lr=1e-3,weight_decay=0)\n",
    "params = {'model' : model.mrnd, \n",
    "    'criterion': loss_fn,  \n",
    "    'optimizer': optimizer, \n",
    "    'callbacks': [savebest, ptt.AccuracyMetric()] #ptt.PlotCallback(),\n",
    "}\n"
   ]
  },
  {
   "cell_type": "code",
   "execution_count": 21,
   "metadata": {
    "collapsed": true
   },
   "outputs": [],
   "source": [
    "# Search space for tunning hyperparameters \n",
    "args= {'lr':[1e-5,1e-2],\n",
    "       'weight_decay':[1e-8,1e-3] }"
   ]
  },
  {
   "cell_type": "code",
   "execution_count": 23,
   "metadata": {
    "collapsed": false
   },
   "outputs": [
    {
     "name": "stdout",
     "output_type": "stream",
     "text": [
      "Iteration 0/20\n",
      "evaluate: 560/560 ok\n",
      "evaluate: 140/140 ok\n",
      "train_loss: 0.043667279257788974, val_loss 0.0990390158146221\n",
      "Execution time :90.00 s\n",
      "Iteration 1/20\n",
      "evaluate: 560/560 ok\n",
      "evaluate: 140/140 ok\n",
      "train_loss: 0.22614252425755146, val_loss 0.2664504192111537\n",
      "Execution time :92.00 s\n",
      "Iteration 2/20\n",
      "evaluate: 560/560 ok\n",
      "evaluate: 140/140 ok\n",
      "train_loss: 0.006496452806785354, val_loss 0.08461422102989415\n",
      "Execution time :90.00 s\n",
      "Iteration 3/20\n",
      "evaluate: 560/560 ok\n",
      "evaluate: 140/140 ok\n",
      "train_loss: 0.21975600944049117, val_loss 0.3032405981785692\n",
      "Execution time :90.00 s\n",
      "Iteration 4/20\n",
      "evaluate: 560/560 ok\n",
      "evaluate: 140/140 ok\n",
      "train_loss: 0.09880412253182602, val_loss 0.14841808459782155\n",
      "Execution time :91.00 s\n",
      "Iteration 5/20\n",
      "evaluate: 560/560 ok\n",
      "evaluate: 140/140 ok\n",
      "train_loss: 0.1354544096700058, val_loss 0.18919102163000048\n",
      "Execution time :90.00 s\n",
      "Iteration 6/20\n",
      "evaluate: 560/560 ok\n",
      "evaluate: 140/140 ok\n",
      "train_loss: 0.12172536122360357, val_loss 0.171827884522216\n",
      "Execution time :90.00 s\n",
      "Iteration 7/20\n",
      "evaluate: 560/560 ok\n",
      "evaluate: 140/140 ok\n",
      "train_loss: 0.06536724739515927, val_loss 0.11909549668045792\n",
      "Execution time :90.00 s\n",
      "Iteration 8/20\n",
      "evaluate: 560/560 ok\n",
      "evaluate: 140/140 ok\n",
      "train_loss: 0.033404975338374894, val_loss 0.1289417466928021\n",
      "Execution time :90.00 s\n",
      "Iteration 9/20\n",
      "evaluate: 560/560 ok\n",
      "evaluate: 140/140 ok\n",
      "train_loss: 0.017182242684222034, val_loss 0.09029867181705642\n",
      "Execution time :90.00 s\n",
      "Iteration 10/20\n",
      "evaluate: 560/560 ok\n",
      "evaluate: 140/140 ok\n",
      "train_loss: 0.24889361789261086, val_loss 0.31390195843048335\n",
      "Execution time :90.00 s\n",
      "Iteration 11/20\n",
      "evaluate: 560/560 ok\n",
      "evaluate: 140/140 ok\n",
      "train_loss: 0.4033274973847529, val_loss 0.4531923164011218\n",
      "Execution time :91.00 s\n",
      "Iteration 12/20\n",
      "evaluate: 560/560 ok\n",
      "evaluate: 140/140 ok\n",
      "train_loss: 0.038020332428494855, val_loss 0.09604358234435294\n",
      "Execution time :90.00 s\n",
      "Iteration 13/20\n",
      "evaluate: 560/560 ok\n",
      "evaluate: 140/140 ok\n",
      "train_loss: 0.19643961150975797, val_loss 0.302657531772098\n",
      "Execution time :90.00 s\n",
      "Iteration 14/20\n",
      "evaluate: 560/560 ok\n",
      "evaluate: 140/140 ok\n",
      "train_loss: 0.027611608562401548, val_loss 0.08877266149878182\n",
      "Execution time :91.00 s\n",
      "Iteration 15/20\n",
      "evaluate: 560/560 ok\n",
      "evaluate: 140/140 ok\n",
      "train_loss: 0.312675338079831, val_loss 0.3657983765338384\n",
      "Execution time :90.00 s\n",
      "Iteration 16/20\n",
      "evaluate: 560/560 ok\n",
      "evaluate: 140/140 ok\n",
      "train_loss: 0.18324873793782998, val_loss 0.2587381789027103\n",
      "Execution time :89.00 s\n",
      "Iteration 17/20\n",
      "evaluate: 560/560 ok\n",
      "evaluate: 140/140 ok\n",
      "train_loss: 0.2252539625434971, val_loss 0.3396163040989749\n",
      "Execution time :90.00 s\n",
      "Iteration 18/20\n",
      "evaluate: 560/560 ok\n",
      "evaluate: 140/140 ok\n",
      "train_loss: 0.32775965788824235, val_loss 0.36536628699111257\n",
      "Execution time :91.00 s\n",
      "Iteration 19/20\n",
      "evaluate: 560/560 ok\n",
      "evaluate: 140/140 ok\n",
      "train_loss: 0.1203159587339414, val_loss 0.16768804769447931\n",
      "Execution time :90.00 s\n",
      "****************************\n",
      "\n",
      "Best parameters {'lr': 0.0076660801180392976, 'weight_decay': 0.0007821374503887426}\n",
      "\n",
      "Best result [0.08461422102989415, 0.006496452806785354, <lib.pytorch_trainer.DeepNetTrainer object at 0x7fe5def75e80>]\n"
     ]
    }
   ],
   "source": [
    "if hiper_tunning: \n",
    "\n",
    "    output = RandomSearch(params,args,\n",
    "                          num_epochs=num_epochs,path2saveModel=path2saveModel,\n",
    "                          dset_loaders_convnet=dset_loaders_convnet,\n",
    "                          MAX_IT=20,verbose=1)\n",
    "    \n",
    "    trainer = output['best_trainer']\n",
    "    print('****************************')\n",
    "    print('\\nBest parameters {}'.format(output['best_parameters']))\n",
    "    print('\\nBest result {}'.format(output['best_result']))\n",
    "\n",
    "else:\n",
    "    params['callbacks'].append(ptt.PrintCallback())\n",
    "    scheduler = StepLR(optimizer, step_size=5, gamma=0.55)\n",
    "    trainer = ptt.DeepNetTrainer(use_gpu=use_gpu,lr_scheduler=scheduler,**params)\n",
    "    trainer.fit_loader(num_epochs, dset_loaders_convnet['train'], dset_loaders_convnet['valid'])"
   ]
  },
  {
   "cell_type": "code",
   "execution_count": 24,
   "metadata": {
    "collapsed": false
   },
   "outputs": [
    {
     "name": "stdout",
     "output_type": "stream",
     "text": [
      "MyDenseNet (\n",
      "  (mrnc): MyDenseNetConv(\n",
      "    (features): Sequential(\n",
      "      (0): Sequential(\n",
      "        (conv0): Conv2d (3, 96, kernel_size=(7, 7), stride=(2, 2), padding=(3, 3), bias=False)\n",
      "        (norm0): BatchNorm2d(96, eps=1e-05, momentum=0.1, affine=True)\n",
      "        (relu0): ReLU(inplace)\n",
      "        (pool0): MaxPool2d(kernel_size=(3, 3), stride=(2, 2), padding=(1, 1), dilation=(1, 1))\n",
      "        (denseblock1): _DenseBlock(\n",
      "          (denselayer1): _DenseLayer(\n",
      "            (norm.1): BatchNorm2d(96, eps=1e-05, momentum=0.1, affine=True)\n",
      "            (relu.1): ReLU(inplace)\n",
      "            (conv.1): Conv2d (96, 192, kernel_size=(1, 1), stride=(1, 1), bias=False)\n",
      "            (norm.2): BatchNorm2d(192, eps=1e-05, momentum=0.1, affine=True)\n",
      "            (relu.2): ReLU(inplace)\n",
      "            (conv.2): Conv2d (192, 48, kernel_size=(3, 3), stride=(1, 1), padding=(1, 1), bias=False)\n",
      "          )\n",
      "          (denselayer2): _DenseLayer(\n",
      "            (norm.1): BatchNorm2d(144, eps=1e-05, momentum=0.1, affine=True)\n",
      "            (relu.1): ReLU(inplace)\n",
      "            (conv.1): Conv2d (144, 192, kernel_size=(1, 1), stride=(1, 1), bias=False)\n",
      "            (norm.2): BatchNorm2d(192, eps=1e-05, momentum=0.1, affine=True)\n",
      "            (relu.2): ReLU(inplace)\n",
      "            (conv.2): Conv2d (192, 48, kernel_size=(3, 3), stride=(1, 1), padding=(1, 1), bias=False)\n",
      "          )\n",
      "          (denselayer3): _DenseLayer(\n",
      "            (norm.1): BatchNorm2d(192, eps=1e-05, momentum=0.1, affine=True)\n",
      "            (relu.1): ReLU(inplace)\n",
      "            (conv.1): Conv2d (192, 192, kernel_size=(1, 1), stride=(1, 1), bias=False)\n",
      "            (norm.2): BatchNorm2d(192, eps=1e-05, momentum=0.1, affine=True)\n",
      "            (relu.2): ReLU(inplace)\n",
      "            (conv.2): Conv2d (192, 48, kernel_size=(3, 3), stride=(1, 1), padding=(1, 1), bias=False)\n",
      "          )\n",
      "          (denselayer4): _DenseLayer(\n",
      "            (norm.1): BatchNorm2d(240, eps=1e-05, momentum=0.1, affine=True)\n",
      "            (relu.1): ReLU(inplace)\n",
      "            (conv.1): Conv2d (240, 192, kernel_size=(1, 1), stride=(1, 1), bias=False)\n",
      "            (norm.2): BatchNorm2d(192, eps=1e-05, momentum=0.1, affine=True)\n",
      "            (relu.2): ReLU(inplace)\n",
      "            (conv.2): Conv2d (192, 48, kernel_size=(3, 3), stride=(1, 1), padding=(1, 1), bias=False)\n",
      "          )\n",
      "          (denselayer5): _DenseLayer(\n",
      "            (norm.1): BatchNorm2d(288, eps=1e-05, momentum=0.1, affine=True)\n",
      "            (relu.1): ReLU(inplace)\n",
      "            (conv.1): Conv2d (288, 192, kernel_size=(1, 1), stride=(1, 1), bias=False)\n",
      "            (norm.2): BatchNorm2d(192, eps=1e-05, momentum=0.1, affine=True)\n",
      "            (relu.2): ReLU(inplace)\n",
      "            (conv.2): Conv2d (192, 48, kernel_size=(3, 3), stride=(1, 1), padding=(1, 1), bias=False)\n",
      "          )\n",
      "          (denselayer6): _DenseLayer(\n",
      "            (norm.1): BatchNorm2d(336, eps=1e-05, momentum=0.1, affine=True)\n",
      "            (relu.1): ReLU(inplace)\n",
      "            (conv.1): Conv2d (336, 192, kernel_size=(1, 1), stride=(1, 1), bias=False)\n",
      "            (norm.2): BatchNorm2d(192, eps=1e-05, momentum=0.1, affine=True)\n",
      "            (relu.2): ReLU(inplace)\n",
      "            (conv.2): Conv2d (192, 48, kernel_size=(3, 3), stride=(1, 1), padding=(1, 1), bias=False)\n",
      "          )\n",
      "        )\n",
      "        (transition1): _Transition(\n",
      "          (norm): BatchNorm2d(384, eps=1e-05, momentum=0.1, affine=True)\n",
      "          (relu): ReLU(inplace)\n",
      "          (conv): Conv2d (384, 192, kernel_size=(1, 1), stride=(1, 1), bias=False)\n",
      "          (pool): AvgPool2d(kernel_size=2, stride=2, padding=0, ceil_mode=False, count_include_pad=True)\n",
      "        )\n",
      "        (denseblock2): _DenseBlock(\n",
      "          (denselayer1): _DenseLayer(\n",
      "            (norm.1): BatchNorm2d(192, eps=1e-05, momentum=0.1, affine=True)\n",
      "            (relu.1): ReLU(inplace)\n",
      "            (conv.1): Conv2d (192, 192, kernel_size=(1, 1), stride=(1, 1), bias=False)\n",
      "            (norm.2): BatchNorm2d(192, eps=1e-05, momentum=0.1, affine=True)\n",
      "            (relu.2): ReLU(inplace)\n",
      "            (conv.2): Conv2d (192, 48, kernel_size=(3, 3), stride=(1, 1), padding=(1, 1), bias=False)\n",
      "          )\n",
      "          (denselayer2): _DenseLayer(\n",
      "            (norm.1): BatchNorm2d(240, eps=1e-05, momentum=0.1, affine=True)\n",
      "            (relu.1): ReLU(inplace)\n",
      "            (conv.1): Conv2d (240, 192, kernel_size=(1, 1), stride=(1, 1), bias=False)\n",
      "            (norm.2): BatchNorm2d(192, eps=1e-05, momentum=0.1, affine=True)\n",
      "            (relu.2): ReLU(inplace)\n",
      "            (conv.2): Conv2d (192, 48, kernel_size=(3, 3), stride=(1, 1), padding=(1, 1), bias=False)\n",
      "          )\n",
      "          (denselayer3): _DenseLayer(\n",
      "            (norm.1): BatchNorm2d(288, eps=1e-05, momentum=0.1, affine=True)\n",
      "            (relu.1): ReLU(inplace)\n",
      "            (conv.1): Conv2d (288, 192, kernel_size=(1, 1), stride=(1, 1), bias=False)\n",
      "            (norm.2): BatchNorm2d(192, eps=1e-05, momentum=0.1, affine=True)\n",
      "            (relu.2): ReLU(inplace)\n",
      "            (conv.2): Conv2d (192, 48, kernel_size=(3, 3), stride=(1, 1), padding=(1, 1), bias=False)\n",
      "          )\n",
      "          (denselayer4): _DenseLayer(\n",
      "            (norm.1): BatchNorm2d(336, eps=1e-05, momentum=0.1, affine=True)\n",
      "            (relu.1): ReLU(inplace)\n",
      "            (conv.1): Conv2d (336, 192, kernel_size=(1, 1), stride=(1, 1), bias=False)\n",
      "            (norm.2): BatchNorm2d(192, eps=1e-05, momentum=0.1, affine=True)\n",
      "            (relu.2): ReLU(inplace)\n",
      "            (conv.2): Conv2d (192, 48, kernel_size=(3, 3), stride=(1, 1), padding=(1, 1), bias=False)\n",
      "          )\n",
      "          (denselayer5): _DenseLayer(\n",
      "            (norm.1): BatchNorm2d(384, eps=1e-05, momentum=0.1, affine=True)\n",
      "            (relu.1): ReLU(inplace)\n",
      "            (conv.1): Conv2d (384, 192, kernel_size=(1, 1), stride=(1, 1), bias=False)\n",
      "            (norm.2): BatchNorm2d(192, eps=1e-05, momentum=0.1, affine=True)\n",
      "            (relu.2): ReLU(inplace)\n",
      "            (conv.2): Conv2d (192, 48, kernel_size=(3, 3), stride=(1, 1), padding=(1, 1), bias=False)\n",
      "          )\n",
      "          (denselayer6): _DenseLayer(\n",
      "            (norm.1): BatchNorm2d(432, eps=1e-05, momentum=0.1, affine=True)\n",
      "            (relu.1): ReLU(inplace)\n",
      "            (conv.1): Conv2d (432, 192, kernel_size=(1, 1), stride=(1, 1), bias=False)\n",
      "            (norm.2): BatchNorm2d(192, eps=1e-05, momentum=0.1, affine=True)\n",
      "            (relu.2): ReLU(inplace)\n",
      "            (conv.2): Conv2d (192, 48, kernel_size=(3, 3), stride=(1, 1), padding=(1, 1), bias=False)\n",
      "          )\n",
      "          (denselayer7): _DenseLayer(\n",
      "            (norm.1): BatchNorm2d(480, eps=1e-05, momentum=0.1, affine=True)\n",
      "            (relu.1): ReLU(inplace)\n",
      "            (conv.1): Conv2d (480, 192, kernel_size=(1, 1), stride=(1, 1), bias=False)\n",
      "            (norm.2): BatchNorm2d(192, eps=1e-05, momentum=0.1, affine=True)\n",
      "            (relu.2): ReLU(inplace)\n",
      "            (conv.2): Conv2d (192, 48, kernel_size=(3, 3), stride=(1, 1), padding=(1, 1), bias=False)\n",
      "          )\n",
      "          (denselayer8): _DenseLayer(\n",
      "            (norm.1): BatchNorm2d(528, eps=1e-05, momentum=0.1, affine=True)\n",
      "            (relu.1): ReLU(inplace)\n",
      "            (conv.1): Conv2d (528, 192, kernel_size=(1, 1), stride=(1, 1), bias=False)\n",
      "            (norm.2): BatchNorm2d(192, eps=1e-05, momentum=0.1, affine=True)\n",
      "            (relu.2): ReLU(inplace)\n",
      "            (conv.2): Conv2d (192, 48, kernel_size=(3, 3), stride=(1, 1), padding=(1, 1), bias=False)\n",
      "          )\n",
      "          (denselayer9): _DenseLayer(\n",
      "            (norm.1): BatchNorm2d(576, eps=1e-05, momentum=0.1, affine=True)\n",
      "            (relu.1): ReLU(inplace)\n",
      "            (conv.1): Conv2d (576, 192, kernel_size=(1, 1), stride=(1, 1), bias=False)\n",
      "            (norm.2): BatchNorm2d(192, eps=1e-05, momentum=0.1, affine=True)\n",
      "            (relu.2): ReLU(inplace)\n",
      "            (conv.2): Conv2d (192, 48, kernel_size=(3, 3), stride=(1, 1), padding=(1, 1), bias=False)\n",
      "          )\n",
      "          (denselayer10): _DenseLayer(\n",
      "            (norm.1): BatchNorm2d(624, eps=1e-05, momentum=0.1, affine=True)\n",
      "            (relu.1): ReLU(inplace)\n",
      "            (conv.1): Conv2d (624, 192, kernel_size=(1, 1), stride=(1, 1), bias=False)\n",
      "            (norm.2): BatchNorm2d(192, eps=1e-05, momentum=0.1, affine=True)\n",
      "            (relu.2): ReLU(inplace)\n",
      "            (conv.2): Conv2d (192, 48, kernel_size=(3, 3), stride=(1, 1), padding=(1, 1), bias=False)\n",
      "          )\n",
      "          (denselayer11): _DenseLayer(\n",
      "            (norm.1): BatchNorm2d(672, eps=1e-05, momentum=0.1, affine=True)\n",
      "            (relu.1): ReLU(inplace)\n",
      "            (conv.1): Conv2d (672, 192, kernel_size=(1, 1), stride=(1, 1), bias=False)\n",
      "            (norm.2): BatchNorm2d(192, eps=1e-05, momentum=0.1, affine=True)\n",
      "            (relu.2): ReLU(inplace)\n",
      "            (conv.2): Conv2d (192, 48, kernel_size=(3, 3), stride=(1, 1), padding=(1, 1), bias=False)\n",
      "          )\n",
      "          (denselayer12): _DenseLayer(\n",
      "            (norm.1): BatchNorm2d(720, eps=1e-05, momentum=0.1, affine=True)\n",
      "            (relu.1): ReLU(inplace)\n",
      "            (conv.1): Conv2d (720, 192, kernel_size=(1, 1), stride=(1, 1), bias=False)\n",
      "            (norm.2): BatchNorm2d(192, eps=1e-05, momentum=0.1, affine=True)\n",
      "            (relu.2): ReLU(inplace)\n",
      "            (conv.2): Conv2d (192, 48, kernel_size=(3, 3), stride=(1, 1), padding=(1, 1), bias=False)\n",
      "          )\n",
      "        )\n",
      "        (transition2): _Transition(\n",
      "          (norm): BatchNorm2d(768, eps=1e-05, momentum=0.1, affine=True)\n",
      "          (relu): ReLU(inplace)\n",
      "          (conv): Conv2d (768, 384, kernel_size=(1, 1), stride=(1, 1), bias=False)\n",
      "          (pool): AvgPool2d(kernel_size=2, stride=2, padding=0, ceil_mode=False, count_include_pad=True)\n",
      "        )\n",
      "        (denseblock3): _DenseBlock(\n",
      "          (denselayer1): _DenseLayer(\n",
      "            (norm.1): BatchNorm2d(384, eps=1e-05, momentum=0.1, affine=True)\n",
      "            (relu.1): ReLU(inplace)\n",
      "            (conv.1): Conv2d (384, 192, kernel_size=(1, 1), stride=(1, 1), bias=False)\n",
      "            (norm.2): BatchNorm2d(192, eps=1e-05, momentum=0.1, affine=True)\n",
      "            (relu.2): ReLU(inplace)\n",
      "            (conv.2): Conv2d (192, 48, kernel_size=(3, 3), stride=(1, 1), padding=(1, 1), bias=False)\n",
      "          )\n",
      "          (denselayer2): _DenseLayer(\n",
      "            (norm.1): BatchNorm2d(432, eps=1e-05, momentum=0.1, affine=True)\n",
      "            (relu.1): ReLU(inplace)\n",
      "            (conv.1): Conv2d (432, 192, kernel_size=(1, 1), stride=(1, 1), bias=False)\n",
      "            (norm.2): BatchNorm2d(192, eps=1e-05, momentum=0.1, affine=True)\n",
      "            (relu.2): ReLU(inplace)\n",
      "            (conv.2): Conv2d (192, 48, kernel_size=(3, 3), stride=(1, 1), padding=(1, 1), bias=False)\n",
      "          )\n",
      "          (denselayer3): _DenseLayer(\n",
      "            (norm.1): BatchNorm2d(480, eps=1e-05, momentum=0.1, affine=True)\n",
      "            (relu.1): ReLU(inplace)\n",
      "            (conv.1): Conv2d (480, 192, kernel_size=(1, 1), stride=(1, 1), bias=False)\n",
      "            (norm.2): BatchNorm2d(192, eps=1e-05, momentum=0.1, affine=True)\n",
      "            (relu.2): ReLU(inplace)\n",
      "            (conv.2): Conv2d (192, 48, kernel_size=(3, 3), stride=(1, 1), padding=(1, 1), bias=False)\n",
      "          )\n",
      "          (denselayer4): _DenseLayer(\n",
      "            (norm.1): BatchNorm2d(528, eps=1e-05, momentum=0.1, affine=True)\n",
      "            (relu.1): ReLU(inplace)\n",
      "            (conv.1): Conv2d (528, 192, kernel_size=(1, 1), stride=(1, 1), bias=False)\n",
      "            (norm.2): BatchNorm2d(192, eps=1e-05, momentum=0.1, affine=True)\n",
      "            (relu.2): ReLU(inplace)\n",
      "            (conv.2): Conv2d (192, 48, kernel_size=(3, 3), stride=(1, 1), padding=(1, 1), bias=False)\n",
      "          )\n",
      "          (denselayer5): _DenseLayer(\n",
      "            (norm.1): BatchNorm2d(576, eps=1e-05, momentum=0.1, affine=True)\n",
      "            (relu.1): ReLU(inplace)\n",
      "            (conv.1): Conv2d (576, 192, kernel_size=(1, 1), stride=(1, 1), bias=False)\n",
      "            (norm.2): BatchNorm2d(192, eps=1e-05, momentum=0.1, affine=True)\n",
      "            (relu.2): ReLU(inplace)\n",
      "            (conv.2): Conv2d (192, 48, kernel_size=(3, 3), stride=(1, 1), padding=(1, 1), bias=False)\n",
      "          )\n",
      "          (denselayer6): _DenseLayer(\n",
      "            (norm.1): BatchNorm2d(624, eps=1e-05, momentum=0.1, affine=True)\n",
      "            (relu.1): ReLU(inplace)\n",
      "            (conv.1): Conv2d (624, 192, kernel_size=(1, 1), stride=(1, 1), bias=False)\n",
      "            (norm.2): BatchNorm2d(192, eps=1e-05, momentum=0.1, affine=True)\n",
      "            (relu.2): ReLU(inplace)\n",
      "            (conv.2): Conv2d (192, 48, kernel_size=(3, 3), stride=(1, 1), padding=(1, 1), bias=False)\n",
      "          )\n",
      "          (denselayer7): _DenseLayer(\n",
      "            (norm.1): BatchNorm2d(672, eps=1e-05, momentum=0.1, affine=True)\n",
      "            (relu.1): ReLU(inplace)\n",
      "            (conv.1): Conv2d (672, 192, kernel_size=(1, 1), stride=(1, 1), bias=False)\n",
      "            (norm.2): BatchNorm2d(192, eps=1e-05, momentum=0.1, affine=True)\n",
      "            (relu.2): ReLU(inplace)\n",
      "            (conv.2): Conv2d (192, 48, kernel_size=(3, 3), stride=(1, 1), padding=(1, 1), bias=False)\n",
      "          )\n",
      "          (denselayer8): _DenseLayer(\n",
      "            (norm.1): BatchNorm2d(720, eps=1e-05, momentum=0.1, affine=True)\n",
      "            (relu.1): ReLU(inplace)\n",
      "            (conv.1): Conv2d (720, 192, kernel_size=(1, 1), stride=(1, 1), bias=False)\n",
      "            (norm.2): BatchNorm2d(192, eps=1e-05, momentum=0.1, affine=True)\n",
      "            (relu.2): ReLU(inplace)\n",
      "            (conv.2): Conv2d (192, 48, kernel_size=(3, 3), stride=(1, 1), padding=(1, 1), bias=False)\n",
      "          )\n",
      "          (denselayer9): _DenseLayer(\n",
      "            (norm.1): BatchNorm2d(768, eps=1e-05, momentum=0.1, affine=True)\n",
      "            (relu.1): ReLU(inplace)\n",
      "            (conv.1): Conv2d (768, 192, kernel_size=(1, 1), stride=(1, 1), bias=False)\n",
      "            (norm.2): BatchNorm2d(192, eps=1e-05, momentum=0.1, affine=True)\n",
      "            (relu.2): ReLU(inplace)\n",
      "            (conv.2): Conv2d (192, 48, kernel_size=(3, 3), stride=(1, 1), padding=(1, 1), bias=False)\n",
      "          )\n",
      "          (denselayer10): _DenseLayer(\n",
      "            (norm.1): BatchNorm2d(816, eps=1e-05, momentum=0.1, affine=True)\n",
      "            (relu.1): ReLU(inplace)\n",
      "            (conv.1): Conv2d (816, 192, kernel_size=(1, 1), stride=(1, 1), bias=False)\n",
      "            (norm.2): BatchNorm2d(192, eps=1e-05, momentum=0.1, affine=True)\n",
      "            (relu.2): ReLU(inplace)\n",
      "            (conv.2): Conv2d (192, 48, kernel_size=(3, 3), stride=(1, 1), padding=(1, 1), bias=False)\n",
      "          )\n",
      "          (denselayer11): _DenseLayer(\n",
      "            (norm.1): BatchNorm2d(864, eps=1e-05, momentum=0.1, affine=True)\n",
      "            (relu.1): ReLU(inplace)\n",
      "            (conv.1): Conv2d (864, 192, kernel_size=(1, 1), stride=(1, 1), bias=False)\n",
      "            (norm.2): BatchNorm2d(192, eps=1e-05, momentum=0.1, affine=True)\n",
      "            (relu.2): ReLU(inplace)\n",
      "            (conv.2): Conv2d (192, 48, kernel_size=(3, 3), stride=(1, 1), padding=(1, 1), bias=False)\n",
      "          )\n",
      "          (denselayer12): _DenseLayer(\n",
      "            (norm.1): BatchNorm2d(912, eps=1e-05, momentum=0.1, affine=True)\n",
      "            (relu.1): ReLU(inplace)\n",
      "            (conv.1): Conv2d (912, 192, kernel_size=(1, 1), stride=(1, 1), bias=False)\n",
      "            (norm.2): BatchNorm2d(192, eps=1e-05, momentum=0.1, affine=True)\n",
      "            (relu.2): ReLU(inplace)\n",
      "            (conv.2): Conv2d (192, 48, kernel_size=(3, 3), stride=(1, 1), padding=(1, 1), bias=False)\n",
      "          )\n",
      "          (denselayer13): _DenseLayer(\n",
      "            (norm.1): BatchNorm2d(960, eps=1e-05, momentum=0.1, affine=True)\n",
      "            (relu.1): ReLU(inplace)\n",
      "            (conv.1): Conv2d (960, 192, kernel_size=(1, 1), stride=(1, 1), bias=False)\n",
      "            (norm.2): BatchNorm2d(192, eps=1e-05, momentum=0.1, affine=True)\n",
      "            (relu.2): ReLU(inplace)\n",
      "            (conv.2): Conv2d (192, 48, kernel_size=(3, 3), stride=(1, 1), padding=(1, 1), bias=False)\n",
      "          )\n",
      "          (denselayer14): _DenseLayer(\n",
      "            (norm.1): BatchNorm2d(1008, eps=1e-05, momentum=0.1, affine=True)\n",
      "            (relu.1): ReLU(inplace)\n",
      "            (conv.1): Conv2d (1008, 192, kernel_size=(1, 1), stride=(1, 1), bias=False)\n",
      "            (norm.2): BatchNorm2d(192, eps=1e-05, momentum=0.1, affine=True)\n",
      "            (relu.2): ReLU(inplace)\n",
      "            (conv.2): Conv2d (192, 48, kernel_size=(3, 3), stride=(1, 1), padding=(1, 1), bias=False)\n",
      "          )\n",
      "          (denselayer15): _DenseLayer(\n",
      "            (norm.1): BatchNorm2d(1056, eps=1e-05, momentum=0.1, affine=True)\n",
      "            (relu.1): ReLU(inplace)\n",
      "            (conv.1): Conv2d (1056, 192, kernel_size=(1, 1), stride=(1, 1), bias=False)\n",
      "            (norm.2): BatchNorm2d(192, eps=1e-05, momentum=0.1, affine=True)\n",
      "            (relu.2): ReLU(inplace)\n",
      "            (conv.2): Conv2d (192, 48, kernel_size=(3, 3), stride=(1, 1), padding=(1, 1), bias=False)\n",
      "          )\n",
      "          (denselayer16): _DenseLayer(\n",
      "            (norm.1): BatchNorm2d(1104, eps=1e-05, momentum=0.1, affine=True)\n",
      "            (relu.1): ReLU(inplace)\n",
      "            (conv.1): Conv2d (1104, 192, kernel_size=(1, 1), stride=(1, 1), bias=False)\n",
      "            (norm.2): BatchNorm2d(192, eps=1e-05, momentum=0.1, affine=True)\n",
      "            (relu.2): ReLU(inplace)\n",
      "            (conv.2): Conv2d (192, 48, kernel_size=(3, 3), stride=(1, 1), padding=(1, 1), bias=False)\n",
      "          )\n",
      "          (denselayer17): _DenseLayer(\n",
      "            (norm.1): BatchNorm2d(1152, eps=1e-05, momentum=0.1, affine=True)\n",
      "            (relu.1): ReLU(inplace)\n",
      "            (conv.1): Conv2d (1152, 192, kernel_size=(1, 1), stride=(1, 1), bias=False)\n",
      "            (norm.2): BatchNorm2d(192, eps=1e-05, momentum=0.1, affine=True)\n",
      "            (relu.2): ReLU(inplace)\n",
      "            (conv.2): Conv2d (192, 48, kernel_size=(3, 3), stride=(1, 1), padding=(1, 1), bias=False)\n",
      "          )\n",
      "          (denselayer18): _DenseLayer(\n",
      "            (norm.1): BatchNorm2d(1200, eps=1e-05, momentum=0.1, affine=True)\n",
      "            (relu.1): ReLU(inplace)\n",
      "            (conv.1): Conv2d (1200, 192, kernel_size=(1, 1), stride=(1, 1), bias=False)\n",
      "            (norm.2): BatchNorm2d(192, eps=1e-05, momentum=0.1, affine=True)\n",
      "            (relu.2): ReLU(inplace)\n",
      "            (conv.2): Conv2d (192, 48, kernel_size=(3, 3), stride=(1, 1), padding=(1, 1), bias=False)\n",
      "          )\n",
      "          (denselayer19): _DenseLayer(\n",
      "            (norm.1): BatchNorm2d(1248, eps=1e-05, momentum=0.1, affine=True)\n",
      "            (relu.1): ReLU(inplace)\n",
      "            (conv.1): Conv2d (1248, 192, kernel_size=(1, 1), stride=(1, 1), bias=False)\n",
      "            (norm.2): BatchNorm2d(192, eps=1e-05, momentum=0.1, affine=True)\n",
      "            (relu.2): ReLU(inplace)\n",
      "            (conv.2): Conv2d (192, 48, kernel_size=(3, 3), stride=(1, 1), padding=(1, 1), bias=False)\n",
      "          )\n",
      "          (denselayer20): _DenseLayer(\n",
      "            (norm.1): BatchNorm2d(1296, eps=1e-05, momentum=0.1, affine=True)\n",
      "            (relu.1): ReLU(inplace)\n",
      "            (conv.1): Conv2d (1296, 192, kernel_size=(1, 1), stride=(1, 1), bias=False)\n",
      "            (norm.2): BatchNorm2d(192, eps=1e-05, momentum=0.1, affine=True)\n",
      "            (relu.2): ReLU(inplace)\n",
      "            (conv.2): Conv2d (192, 48, kernel_size=(3, 3), stride=(1, 1), padding=(1, 1), bias=False)\n",
      "          )\n",
      "          (denselayer21): _DenseLayer(\n",
      "            (norm.1): BatchNorm2d(1344, eps=1e-05, momentum=0.1, affine=True)\n",
      "            (relu.1): ReLU(inplace)\n",
      "            (conv.1): Conv2d (1344, 192, kernel_size=(1, 1), stride=(1, 1), bias=False)\n",
      "            (norm.2): BatchNorm2d(192, eps=1e-05, momentum=0.1, affine=True)\n",
      "            (relu.2): ReLU(inplace)\n",
      "            (conv.2): Conv2d (192, 48, kernel_size=(3, 3), stride=(1, 1), padding=(1, 1), bias=False)\n",
      "          )\n",
      "          (denselayer22): _DenseLayer(\n",
      "            (norm.1): BatchNorm2d(1392, eps=1e-05, momentum=0.1, affine=True)\n",
      "            (relu.1): ReLU(inplace)\n",
      "            (conv.1): Conv2d (1392, 192, kernel_size=(1, 1), stride=(1, 1), bias=False)\n",
      "            (norm.2): BatchNorm2d(192, eps=1e-05, momentum=0.1, affine=True)\n",
      "            (relu.2): ReLU(inplace)\n",
      "            (conv.2): Conv2d (192, 48, kernel_size=(3, 3), stride=(1, 1), padding=(1, 1), bias=False)\n",
      "          )\n",
      "          (denselayer23): _DenseLayer(\n",
      "            (norm.1): BatchNorm2d(1440, eps=1e-05, momentum=0.1, affine=True)\n",
      "            (relu.1): ReLU(inplace)\n",
      "            (conv.1): Conv2d (1440, 192, kernel_size=(1, 1), stride=(1, 1), bias=False)\n",
      "            (norm.2): BatchNorm2d(192, eps=1e-05, momentum=0.1, affine=True)\n",
      "            (relu.2): ReLU(inplace)\n",
      "            (conv.2): Conv2d (192, 48, kernel_size=(3, 3), stride=(1, 1), padding=(1, 1), bias=False)\n",
      "          )\n",
      "          (denselayer24): _DenseLayer(\n",
      "            (norm.1): BatchNorm2d(1488, eps=1e-05, momentum=0.1, affine=True)\n",
      "            (relu.1): ReLU(inplace)\n",
      "            (conv.1): Conv2d (1488, 192, kernel_size=(1, 1), stride=(1, 1), bias=False)\n",
      "            (norm.2): BatchNorm2d(192, eps=1e-05, momentum=0.1, affine=True)\n",
      "            (relu.2): ReLU(inplace)\n",
      "            (conv.2): Conv2d (192, 48, kernel_size=(3, 3), stride=(1, 1), padding=(1, 1), bias=False)\n",
      "          )\n",
      "          (denselayer25): _DenseLayer(\n",
      "            (norm.1): BatchNorm2d(1536, eps=1e-05, momentum=0.1, affine=True)\n",
      "            (relu.1): ReLU(inplace)\n",
      "            (conv.1): Conv2d (1536, 192, kernel_size=(1, 1), stride=(1, 1), bias=False)\n",
      "            (norm.2): BatchNorm2d(192, eps=1e-05, momentum=0.1, affine=True)\n",
      "            (relu.2): ReLU(inplace)\n",
      "            (conv.2): Conv2d (192, 48, kernel_size=(3, 3), stride=(1, 1), padding=(1, 1), bias=False)\n",
      "          )\n",
      "          (denselayer26): _DenseLayer(\n",
      "            (norm.1): BatchNorm2d(1584, eps=1e-05, momentum=0.1, affine=True)\n",
      "            (relu.1): ReLU(inplace)\n",
      "            (conv.1): Conv2d (1584, 192, kernel_size=(1, 1), stride=(1, 1), bias=False)\n",
      "            (norm.2): BatchNorm2d(192, eps=1e-05, momentum=0.1, affine=True)\n",
      "            (relu.2): ReLU(inplace)\n",
      "            (conv.2): Conv2d (192, 48, kernel_size=(3, 3), stride=(1, 1), padding=(1, 1), bias=False)\n",
      "          )\n",
      "          (denselayer27): _DenseLayer(\n",
      "            (norm.1): BatchNorm2d(1632, eps=1e-05, momentum=0.1, affine=True)\n",
      "            (relu.1): ReLU(inplace)\n",
      "            (conv.1): Conv2d (1632, 192, kernel_size=(1, 1), stride=(1, 1), bias=False)\n",
      "            (norm.2): BatchNorm2d(192, eps=1e-05, momentum=0.1, affine=True)\n",
      "            (relu.2): ReLU(inplace)\n",
      "            (conv.2): Conv2d (192, 48, kernel_size=(3, 3), stride=(1, 1), padding=(1, 1), bias=False)\n",
      "          )\n",
      "          (denselayer28): _DenseLayer(\n",
      "            (norm.1): BatchNorm2d(1680, eps=1e-05, momentum=0.1, affine=True)\n",
      "            (relu.1): ReLU(inplace)\n",
      "            (conv.1): Conv2d (1680, 192, kernel_size=(1, 1), stride=(1, 1), bias=False)\n",
      "            (norm.2): BatchNorm2d(192, eps=1e-05, momentum=0.1, affine=True)\n",
      "            (relu.2): ReLU(inplace)\n",
      "            (conv.2): Conv2d (192, 48, kernel_size=(3, 3), stride=(1, 1), padding=(1, 1), bias=False)\n",
      "          )\n",
      "          (denselayer29): _DenseLayer(\n",
      "            (norm.1): BatchNorm2d(1728, eps=1e-05, momentum=0.1, affine=True)\n",
      "            (relu.1): ReLU(inplace)\n",
      "            (conv.1): Conv2d (1728, 192, kernel_size=(1, 1), stride=(1, 1), bias=False)\n",
      "            (norm.2): BatchNorm2d(192, eps=1e-05, momentum=0.1, affine=True)\n",
      "            (relu.2): ReLU(inplace)\n",
      "            (conv.2): Conv2d (192, 48, kernel_size=(3, 3), stride=(1, 1), padding=(1, 1), bias=False)\n",
      "          )\n",
      "          (denselayer30): _DenseLayer(\n",
      "            (norm.1): BatchNorm2d(1776, eps=1e-05, momentum=0.1, affine=True)\n",
      "            (relu.1): ReLU(inplace)\n",
      "            (conv.1): Conv2d (1776, 192, kernel_size=(1, 1), stride=(1, 1), bias=False)\n",
      "            (norm.2): BatchNorm2d(192, eps=1e-05, momentum=0.1, affine=True)\n",
      "            (relu.2): ReLU(inplace)\n",
      "            (conv.2): Conv2d (192, 48, kernel_size=(3, 3), stride=(1, 1), padding=(1, 1), bias=False)\n",
      "          )\n",
      "          (denselayer31): _DenseLayer(\n",
      "            (norm.1): BatchNorm2d(1824, eps=1e-05, momentum=0.1, affine=True)\n",
      "            (relu.1): ReLU(inplace)\n",
      "            (conv.1): Conv2d (1824, 192, kernel_size=(1, 1), stride=(1, 1), bias=False)\n",
      "            (norm.2): BatchNorm2d(192, eps=1e-05, momentum=0.1, affine=True)\n",
      "            (relu.2): ReLU(inplace)\n",
      "            (conv.2): Conv2d (192, 48, kernel_size=(3, 3), stride=(1, 1), padding=(1, 1), bias=False)\n",
      "          )\n",
      "          (denselayer32): _DenseLayer(\n",
      "            (norm.1): BatchNorm2d(1872, eps=1e-05, momentum=0.1, affine=True)\n",
      "            (relu.1): ReLU(inplace)\n",
      "            (conv.1): Conv2d (1872, 192, kernel_size=(1, 1), stride=(1, 1), bias=False)\n",
      "            (norm.2): BatchNorm2d(192, eps=1e-05, momentum=0.1, affine=True)\n",
      "            (relu.2): ReLU(inplace)\n",
      "            (conv.2): Conv2d (192, 48, kernel_size=(3, 3), stride=(1, 1), padding=(1, 1), bias=False)\n",
      "          )\n",
      "          (denselayer33): _DenseLayer(\n",
      "            (norm.1): BatchNorm2d(1920, eps=1e-05, momentum=0.1, affine=True)\n",
      "            (relu.1): ReLU(inplace)\n",
      "            (conv.1): Conv2d (1920, 192, kernel_size=(1, 1), stride=(1, 1), bias=False)\n",
      "            (norm.2): BatchNorm2d(192, eps=1e-05, momentum=0.1, affine=True)\n",
      "            (relu.2): ReLU(inplace)\n",
      "            (conv.2): Conv2d (192, 48, kernel_size=(3, 3), stride=(1, 1), padding=(1, 1), bias=False)\n",
      "          )\n",
      "          (denselayer34): _DenseLayer(\n",
      "            (norm.1): BatchNorm2d(1968, eps=1e-05, momentum=0.1, affine=True)\n",
      "            (relu.1): ReLU(inplace)\n",
      "            (conv.1): Conv2d (1968, 192, kernel_size=(1, 1), stride=(1, 1), bias=False)\n",
      "            (norm.2): BatchNorm2d(192, eps=1e-05, momentum=0.1, affine=True)\n",
      "            (relu.2): ReLU(inplace)\n",
      "            (conv.2): Conv2d (192, 48, kernel_size=(3, 3), stride=(1, 1), padding=(1, 1), bias=False)\n",
      "          )\n",
      "          (denselayer35): _DenseLayer(\n",
      "            (norm.1): BatchNorm2d(2016, eps=1e-05, momentum=0.1, affine=True)\n",
      "            (relu.1): ReLU(inplace)\n",
      "            (conv.1): Conv2d (2016, 192, kernel_size=(1, 1), stride=(1, 1), bias=False)\n",
      "            (norm.2): BatchNorm2d(192, eps=1e-05, momentum=0.1, affine=True)\n",
      "            (relu.2): ReLU(inplace)\n",
      "            (conv.2): Conv2d (192, 48, kernel_size=(3, 3), stride=(1, 1), padding=(1, 1), bias=False)\n",
      "          )\n",
      "          (denselayer36): _DenseLayer(\n",
      "            (norm.1): BatchNorm2d(2064, eps=1e-05, momentum=0.1, affine=True)\n",
      "            (relu.1): ReLU(inplace)\n",
      "            (conv.1): Conv2d (2064, 192, kernel_size=(1, 1), stride=(1, 1), bias=False)\n",
      "            (norm.2): BatchNorm2d(192, eps=1e-05, momentum=0.1, affine=True)\n",
      "            (relu.2): ReLU(inplace)\n",
      "            (conv.2): Conv2d (192, 48, kernel_size=(3, 3), stride=(1, 1), padding=(1, 1), bias=False)\n",
      "          )\n",
      "        )\n",
      "        (transition3): _Transition(\n",
      "          (norm): BatchNorm2d(2112, eps=1e-05, momentum=0.1, affine=True)\n",
      "          (relu): ReLU(inplace)\n",
      "          (conv): Conv2d (2112, 1056, kernel_size=(1, 1), stride=(1, 1), bias=False)\n",
      "          (pool): AvgPool2d(kernel_size=2, stride=2, padding=0, ceil_mode=False, count_include_pad=True)\n",
      "        )\n",
      "        (denseblock4): _DenseBlock(\n",
      "          (denselayer1): _DenseLayer(\n",
      "            (norm.1): BatchNorm2d(1056, eps=1e-05, momentum=0.1, affine=True)\n",
      "            (relu.1): ReLU(inplace)\n",
      "            (conv.1): Conv2d (1056, 192, kernel_size=(1, 1), stride=(1, 1), bias=False)\n",
      "            (norm.2): BatchNorm2d(192, eps=1e-05, momentum=0.1, affine=True)\n",
      "            (relu.2): ReLU(inplace)\n",
      "            (conv.2): Conv2d (192, 48, kernel_size=(3, 3), stride=(1, 1), padding=(1, 1), bias=False)\n",
      "          )\n",
      "          (denselayer2): _DenseLayer(\n",
      "            (norm.1): BatchNorm2d(1104, eps=1e-05, momentum=0.1, affine=True)\n",
      "            (relu.1): ReLU(inplace)\n",
      "            (conv.1): Conv2d (1104, 192, kernel_size=(1, 1), stride=(1, 1), bias=False)\n",
      "            (norm.2): BatchNorm2d(192, eps=1e-05, momentum=0.1, affine=True)\n",
      "            (relu.2): ReLU(inplace)\n",
      "            (conv.2): Conv2d (192, 48, kernel_size=(3, 3), stride=(1, 1), padding=(1, 1), bias=False)\n",
      "          )\n",
      "          (denselayer3): _DenseLayer(\n",
      "            (norm.1): BatchNorm2d(1152, eps=1e-05, momentum=0.1, affine=True)\n",
      "            (relu.1): ReLU(inplace)\n",
      "            (conv.1): Conv2d (1152, 192, kernel_size=(1, 1), stride=(1, 1), bias=False)\n",
      "            (norm.2): BatchNorm2d(192, eps=1e-05, momentum=0.1, affine=True)\n",
      "            (relu.2): ReLU(inplace)\n",
      "            (conv.2): Conv2d (192, 48, kernel_size=(3, 3), stride=(1, 1), padding=(1, 1), bias=False)\n",
      "          )\n",
      "          (denselayer4): _DenseLayer(\n",
      "            (norm.1): BatchNorm2d(1200, eps=1e-05, momentum=0.1, affine=True)\n",
      "            (relu.1): ReLU(inplace)\n",
      "            (conv.1): Conv2d (1200, 192, kernel_size=(1, 1), stride=(1, 1), bias=False)\n",
      "            (norm.2): BatchNorm2d(192, eps=1e-05, momentum=0.1, affine=True)\n",
      "            (relu.2): ReLU(inplace)\n",
      "            (conv.2): Conv2d (192, 48, kernel_size=(3, 3), stride=(1, 1), padding=(1, 1), bias=False)\n",
      "          )\n",
      "          (denselayer5): _DenseLayer(\n",
      "            (norm.1): BatchNorm2d(1248, eps=1e-05, momentum=0.1, affine=True)\n",
      "            (relu.1): ReLU(inplace)\n",
      "            (conv.1): Conv2d (1248, 192, kernel_size=(1, 1), stride=(1, 1), bias=False)\n",
      "            (norm.2): BatchNorm2d(192, eps=1e-05, momentum=0.1, affine=True)\n",
      "            (relu.2): ReLU(inplace)\n",
      "            (conv.2): Conv2d (192, 48, kernel_size=(3, 3), stride=(1, 1), padding=(1, 1), bias=False)\n",
      "          )\n",
      "          (denselayer6): _DenseLayer(\n",
      "            (norm.1): BatchNorm2d(1296, eps=1e-05, momentum=0.1, affine=True)\n",
      "            (relu.1): ReLU(inplace)\n",
      "            (conv.1): Conv2d (1296, 192, kernel_size=(1, 1), stride=(1, 1), bias=False)\n",
      "            (norm.2): BatchNorm2d(192, eps=1e-05, momentum=0.1, affine=True)\n",
      "            (relu.2): ReLU(inplace)\n",
      "            (conv.2): Conv2d (192, 48, kernel_size=(3, 3), stride=(1, 1), padding=(1, 1), bias=False)\n",
      "          )\n",
      "          (denselayer7): _DenseLayer(\n",
      "            (norm.1): BatchNorm2d(1344, eps=1e-05, momentum=0.1, affine=True)\n",
      "            (relu.1): ReLU(inplace)\n",
      "            (conv.1): Conv2d (1344, 192, kernel_size=(1, 1), stride=(1, 1), bias=False)\n",
      "            (norm.2): BatchNorm2d(192, eps=1e-05, momentum=0.1, affine=True)\n",
      "            (relu.2): ReLU(inplace)\n",
      "            (conv.2): Conv2d (192, 48, kernel_size=(3, 3), stride=(1, 1), padding=(1, 1), bias=False)\n",
      "          )\n",
      "          (denselayer8): _DenseLayer(\n",
      "            (norm.1): BatchNorm2d(1392, eps=1e-05, momentum=0.1, affine=True)\n",
      "            (relu.1): ReLU(inplace)\n",
      "            (conv.1): Conv2d (1392, 192, kernel_size=(1, 1), stride=(1, 1), bias=False)\n",
      "            (norm.2): BatchNorm2d(192, eps=1e-05, momentum=0.1, affine=True)\n",
      "            (relu.2): ReLU(inplace)\n",
      "            (conv.2): Conv2d (192, 48, kernel_size=(3, 3), stride=(1, 1), padding=(1, 1), bias=False)\n",
      "          )\n",
      "          (denselayer9): _DenseLayer(\n",
      "            (norm.1): BatchNorm2d(1440, eps=1e-05, momentum=0.1, affine=True)\n",
      "            (relu.1): ReLU(inplace)\n",
      "            (conv.1): Conv2d (1440, 192, kernel_size=(1, 1), stride=(1, 1), bias=False)\n",
      "            (norm.2): BatchNorm2d(192, eps=1e-05, momentum=0.1, affine=True)\n",
      "            (relu.2): ReLU(inplace)\n",
      "            (conv.2): Conv2d (192, 48, kernel_size=(3, 3), stride=(1, 1), padding=(1, 1), bias=False)\n",
      "          )\n",
      "          (denselayer10): _DenseLayer(\n",
      "            (norm.1): BatchNorm2d(1488, eps=1e-05, momentum=0.1, affine=True)\n",
      "            (relu.1): ReLU(inplace)\n",
      "            (conv.1): Conv2d (1488, 192, kernel_size=(1, 1), stride=(1, 1), bias=False)\n",
      "            (norm.2): BatchNorm2d(192, eps=1e-05, momentum=0.1, affine=True)\n",
      "            (relu.2): ReLU(inplace)\n",
      "            (conv.2): Conv2d (192, 48, kernel_size=(3, 3), stride=(1, 1), padding=(1, 1), bias=False)\n",
      "          )\n",
      "          (denselayer11): _DenseLayer(\n",
      "            (norm.1): BatchNorm2d(1536, eps=1e-05, momentum=0.1, affine=True)\n",
      "            (relu.1): ReLU(inplace)\n",
      "            (conv.1): Conv2d (1536, 192, kernel_size=(1, 1), stride=(1, 1), bias=False)\n",
      "            (norm.2): BatchNorm2d(192, eps=1e-05, momentum=0.1, affine=True)\n",
      "            (relu.2): ReLU(inplace)\n",
      "            (conv.2): Conv2d (192, 48, kernel_size=(3, 3), stride=(1, 1), padding=(1, 1), bias=False)\n",
      "          )\n",
      "          (denselayer12): _DenseLayer(\n",
      "            (norm.1): BatchNorm2d(1584, eps=1e-05, momentum=0.1, affine=True)\n",
      "            (relu.1): ReLU(inplace)\n",
      "            (conv.1): Conv2d (1584, 192, kernel_size=(1, 1), stride=(1, 1), bias=False)\n",
      "            (norm.2): BatchNorm2d(192, eps=1e-05, momentum=0.1, affine=True)\n",
      "            (relu.2): ReLU(inplace)\n",
      "            (conv.2): Conv2d (192, 48, kernel_size=(3, 3), stride=(1, 1), padding=(1, 1), bias=False)\n",
      "          )\n",
      "          (denselayer13): _DenseLayer(\n",
      "            (norm.1): BatchNorm2d(1632, eps=1e-05, momentum=0.1, affine=True)\n",
      "            (relu.1): ReLU(inplace)\n",
      "            (conv.1): Conv2d (1632, 192, kernel_size=(1, 1), stride=(1, 1), bias=False)\n",
      "            (norm.2): BatchNorm2d(192, eps=1e-05, momentum=0.1, affine=True)\n",
      "            (relu.2): ReLU(inplace)\n",
      "            (conv.2): Conv2d (192, 48, kernel_size=(3, 3), stride=(1, 1), padding=(1, 1), bias=False)\n",
      "          )\n",
      "          (denselayer14): _DenseLayer(\n",
      "            (norm.1): BatchNorm2d(1680, eps=1e-05, momentum=0.1, affine=True)\n",
      "            (relu.1): ReLU(inplace)\n",
      "            (conv.1): Conv2d (1680, 192, kernel_size=(1, 1), stride=(1, 1), bias=False)\n",
      "            (norm.2): BatchNorm2d(192, eps=1e-05, momentum=0.1, affine=True)\n",
      "            (relu.2): ReLU(inplace)\n",
      "            (conv.2): Conv2d (192, 48, kernel_size=(3, 3), stride=(1, 1), padding=(1, 1), bias=False)\n",
      "          )\n",
      "          (denselayer15): _DenseLayer(\n",
      "            (norm.1): BatchNorm2d(1728, eps=1e-05, momentum=0.1, affine=True)\n",
      "            (relu.1): ReLU(inplace)\n",
      "            (conv.1): Conv2d (1728, 192, kernel_size=(1, 1), stride=(1, 1), bias=False)\n",
      "            (norm.2): BatchNorm2d(192, eps=1e-05, momentum=0.1, affine=True)\n",
      "            (relu.2): ReLU(inplace)\n",
      "            (conv.2): Conv2d (192, 48, kernel_size=(3, 3), stride=(1, 1), padding=(1, 1), bias=False)\n",
      "          )\n",
      "          (denselayer16): _DenseLayer(\n",
      "            (norm.1): BatchNorm2d(1776, eps=1e-05, momentum=0.1, affine=True)\n",
      "            (relu.1): ReLU(inplace)\n",
      "            (conv.1): Conv2d (1776, 192, kernel_size=(1, 1), stride=(1, 1), bias=False)\n",
      "            (norm.2): BatchNorm2d(192, eps=1e-05, momentum=0.1, affine=True)\n",
      "            (relu.2): ReLU(inplace)\n",
      "            (conv.2): Conv2d (192, 48, kernel_size=(3, 3), stride=(1, 1), padding=(1, 1), bias=False)\n",
      "          )\n",
      "          (denselayer17): _DenseLayer(\n",
      "            (norm.1): BatchNorm2d(1824, eps=1e-05, momentum=0.1, affine=True)\n",
      "            (relu.1): ReLU(inplace)\n",
      "            (conv.1): Conv2d (1824, 192, kernel_size=(1, 1), stride=(1, 1), bias=False)\n",
      "            (norm.2): BatchNorm2d(192, eps=1e-05, momentum=0.1, affine=True)\n",
      "            (relu.2): ReLU(inplace)\n",
      "            (conv.2): Conv2d (192, 48, kernel_size=(3, 3), stride=(1, 1), padding=(1, 1), bias=False)\n",
      "          )\n",
      "          (denselayer18): _DenseLayer(\n",
      "            (norm.1): BatchNorm2d(1872, eps=1e-05, momentum=0.1, affine=True)\n",
      "            (relu.1): ReLU(inplace)\n",
      "            (conv.1): Conv2d (1872, 192, kernel_size=(1, 1), stride=(1, 1), bias=False)\n",
      "            (norm.2): BatchNorm2d(192, eps=1e-05, momentum=0.1, affine=True)\n",
      "            (relu.2): ReLU(inplace)\n",
      "            (conv.2): Conv2d (192, 48, kernel_size=(3, 3), stride=(1, 1), padding=(1, 1), bias=False)\n",
      "          )\n",
      "          (denselayer19): _DenseLayer(\n",
      "            (norm.1): BatchNorm2d(1920, eps=1e-05, momentum=0.1, affine=True)\n",
      "            (relu.1): ReLU(inplace)\n",
      "            (conv.1): Conv2d (1920, 192, kernel_size=(1, 1), stride=(1, 1), bias=False)\n",
      "            (norm.2): BatchNorm2d(192, eps=1e-05, momentum=0.1, affine=True)\n",
      "            (relu.2): ReLU(inplace)\n",
      "            (conv.2): Conv2d (192, 48, kernel_size=(3, 3), stride=(1, 1), padding=(1, 1), bias=False)\n",
      "          )\n",
      "          (denselayer20): _DenseLayer(\n",
      "            (norm.1): BatchNorm2d(1968, eps=1e-05, momentum=0.1, affine=True)\n",
      "            (relu.1): ReLU(inplace)\n",
      "            (conv.1): Conv2d (1968, 192, kernel_size=(1, 1), stride=(1, 1), bias=False)\n",
      "            (norm.2): BatchNorm2d(192, eps=1e-05, momentum=0.1, affine=True)\n",
      "            (relu.2): ReLU(inplace)\n",
      "            (conv.2): Conv2d (192, 48, kernel_size=(3, 3), stride=(1, 1), padding=(1, 1), bias=False)\n",
      "          )\n",
      "          (denselayer21): _DenseLayer(\n",
      "            (norm.1): BatchNorm2d(2016, eps=1e-05, momentum=0.1, affine=True)\n",
      "            (relu.1): ReLU(inplace)\n",
      "            (conv.1): Conv2d (2016, 192, kernel_size=(1, 1), stride=(1, 1), bias=False)\n",
      "            (norm.2): BatchNorm2d(192, eps=1e-05, momentum=0.1, affine=True)\n",
      "            (relu.2): ReLU(inplace)\n",
      "            (conv.2): Conv2d (192, 48, kernel_size=(3, 3), stride=(1, 1), padding=(1, 1), bias=False)\n",
      "          )\n",
      "          (denselayer22): _DenseLayer(\n",
      "            (norm.1): BatchNorm2d(2064, eps=1e-05, momentum=0.1, affine=True)\n",
      "            (relu.1): ReLU(inplace)\n",
      "            (conv.1): Conv2d (2064, 192, kernel_size=(1, 1), stride=(1, 1), bias=False)\n",
      "            (norm.2): BatchNorm2d(192, eps=1e-05, momentum=0.1, affine=True)\n",
      "            (relu.2): ReLU(inplace)\n",
      "            (conv.2): Conv2d (192, 48, kernel_size=(3, 3), stride=(1, 1), padding=(1, 1), bias=False)\n",
      "          )\n",
      "          (denselayer23): _DenseLayer(\n",
      "            (norm.1): BatchNorm2d(2112, eps=1e-05, momentum=0.1, affine=True)\n",
      "            (relu.1): ReLU(inplace)\n",
      "            (conv.1): Conv2d (2112, 192, kernel_size=(1, 1), stride=(1, 1), bias=False)\n",
      "            (norm.2): BatchNorm2d(192, eps=1e-05, momentum=0.1, affine=True)\n",
      "            (relu.2): ReLU(inplace)\n",
      "            (conv.2): Conv2d (192, 48, kernel_size=(3, 3), stride=(1, 1), padding=(1, 1), bias=False)\n",
      "          )\n",
      "          (denselayer24): _DenseLayer(\n",
      "            (norm.1): BatchNorm2d(2160, eps=1e-05, momentum=0.1, affine=True)\n",
      "            (relu.1): ReLU(inplace)\n",
      "            (conv.1): Conv2d (2160, 192, kernel_size=(1, 1), stride=(1, 1), bias=False)\n",
      "            (norm.2): BatchNorm2d(192, eps=1e-05, momentum=0.1, affine=True)\n",
      "            (relu.2): ReLU(inplace)\n",
      "            (conv.2): Conv2d (192, 48, kernel_size=(3, 3), stride=(1, 1), padding=(1, 1), bias=False)\n",
      "          )\n",
      "        )\n",
      "        (norm5): BatchNorm2d(2208, eps=1e-05, momentum=0.1, affine=True)\n",
      "      )\n",
      "    )\n",
      "  ), weights=((96, 3, 7, 7), (96,), (96,), (96,), (96,), (192, 96, 1, 1), (192,), (192,), (48, 192, 3, 3), (144,), (144,), (192, 144, 1, 1), (192,), (192,), (48, 192, 3, 3), (192,), (192,), (192, 192, 1, 1), (192,), (192,), (48, 192, 3, 3), (240,), (240,), (192, 240, 1, 1), (192,), (192,), (48, 192, 3, 3), (288,), (288,), (192, 288, 1, 1), (192,), (192,), (48, 192, 3, 3), (336,), (336,), (192, 336, 1, 1), (192,), (192,), (48, 192, 3, 3), (384,), (384,), (192, 384, 1, 1), (192,), (192,), (192, 192, 1, 1), (192,), (192,), (48, 192, 3, 3), (240,), (240,), (192, 240, 1, 1), (192,), (192,), (48, 192, 3, 3), (288,), (288,), (192, 288, 1, 1), (192,), (192,), (48, 192, 3, 3), (336,), (336,), (192, 336, 1, 1), (192,), (192,), (48, 192, 3, 3), (384,), (384,), (192, 384, 1, 1), (192,), (192,), (48, 192, 3, 3), (432,), (432,), (192, 432, 1, 1), (192,), (192,), (48, 192, 3, 3), (480,), (480,), (192, 480, 1, 1), (192,), (192,), (48, 192, 3, 3), (528,), (528,), (192, 528, 1, 1), (192,), (192,), (48, 192, 3, 3), (576,), (576,), (192, 576, 1, 1), (192,), (192,), (48, 192, 3, 3), (624,), (624,), (192, 624, 1, 1), (192,), (192,), (48, 192, 3, 3), (672,), (672,), (192, 672, 1, 1), (192,), (192,), (48, 192, 3, 3), (720,), (720,), (192, 720, 1, 1), (192,), (192,), (48, 192, 3, 3), (768,), (768,), (384, 768, 1, 1), (384,), (384,), (192, 384, 1, 1), (192,), (192,), (48, 192, 3, 3), (432,), (432,), (192, 432, 1, 1), (192,), (192,), (48, 192, 3, 3), (480,), (480,), (192, 480, 1, 1), (192,), (192,), (48, 192, 3, 3), (528,), (528,), (192, 528, 1, 1), (192,), (192,), (48, 192, 3, 3), (576,), (576,), (192, 576, 1, 1), (192,), (192,), (48, 192, 3, 3), (624,), (624,), (192, 624, 1, 1), (192,), (192,), (48, 192, 3, 3), (672,), (672,), (192, 672, 1, 1), (192,), (192,), (48, 192, 3, 3), (720,), (720,), (192, 720, 1, 1), (192,), (192,), (48, 192, 3, 3), (768,), (768,), (192, 768, 1, 1), (192,), (192,), (48, 192, 3, 3), (816,), (816,), (192, 816, 1, 1), (192,), (192,), (48, 192, 3, 3), (864,), (864,), (192, 864, 1, 1), (192,), (192,), (48, 192, 3, 3), (912,), (912,), (192, 912, 1, 1), (192,), (192,), (48, 192, 3, 3), (960,), (960,), (192, 960, 1, 1), (192,), (192,), (48, 192, 3, 3), (1008,), (1008,), (192, 1008, 1, 1), (192,), (192,), (48, 192, 3, 3), (1056,), (1056,), (192, 1056, 1, 1), (192,), (192,), (48, 192, 3, 3), (1104,), (1104,), (192, 1104, 1, 1), (192,), (192,), (48, 192, 3, 3), (1152,), (1152,), (192, 1152, 1, 1), (192,), (192,), (48, 192, 3, 3), (1200,), (1200,), (192, 1200, 1, 1), (192,), (192,), (48, 192, 3, 3), (1248,), (1248,), (192, 1248, 1, 1), (192,), (192,), (48, 192, 3, 3), (1296,), (1296,), (192, 1296, 1, 1), (192,), (192,), (48, 192, 3, 3), (1344,), (1344,), (192, 1344, 1, 1), (192,), (192,), (48, 192, 3, 3), (1392,), (1392,), (192, 1392, 1, 1), (192,), (192,), (48, 192, 3, 3), (1440,), (1440,), (192, 1440, 1, 1), (192,), (192,), (48, 192, 3, 3), (1488,), (1488,), (192, 1488, 1, 1), (192,), (192,), (48, 192, 3, 3), (1536,), (1536,), (192, 1536, 1, 1), (192,), (192,), (48, 192, 3, 3), (1584,), (1584,), (192, 1584, 1, 1), (192,), (192,), (48, 192, 3, 3), (1632,), (1632,), (192, 1632, 1, 1), (192,), (192,), (48, 192, 3, 3), (1680,), (1680,), (192, 1680, 1, 1), (192,), (192,), (48, 192, 3, 3), (1728,), (1728,), (192, 1728, 1, 1), (192,), (192,), (48, 192, 3, 3), (1776,), (1776,), (192, 1776, 1, 1), (192,), (192,), (48, 192, 3, 3), (1824,), (1824,), (192, 1824, 1, 1), (192,), (192,), (48, 192, 3, 3), (1872,), (1872,), (192, 1872, 1, 1), (192,), (192,), (48, 192, 3, 3), (1920,), (1920,), (192, 1920, 1, 1), (192,), (192,), (48, 192, 3, 3), (1968,), (1968,), (192, 1968, 1, 1), (192,), (192,), (48, 192, 3, 3), (2016,), (2016,), (192, 2016, 1, 1), (192,), (192,), (48, 192, 3, 3), (2064,), (2064,), (192, 2064, 1, 1), (192,), (192,), (48, 192, 3, 3), (2112,), (2112,), (1056, 2112, 1, 1), (1056,), (1056,), (192, 1056, 1, 1), (192,), (192,), (48, 192, 3, 3), (1104,), (1104,), (192, 1104, 1, 1), (192,), (192,), (48, 192, 3, 3), (1152,), (1152,), (192, 1152, 1, 1), (192,), (192,), (48, 192, 3, 3), (1200,), (1200,), (192, 1200, 1, 1), (192,), (192,), (48, 192, 3, 3), (1248,), (1248,), (192, 1248, 1, 1), (192,), (192,), (48, 192, 3, 3), (1296,), (1296,), (192, 1296, 1, 1), (192,), (192,), (48, 192, 3, 3), (1344,), (1344,), (192, 1344, 1, 1), (192,), (192,), (48, 192, 3, 3), (1392,), (1392,), (192, 1392, 1, 1), (192,), (192,), (48, 192, 3, 3), (1440,), (1440,), (192, 1440, 1, 1), (192,), (192,), (48, 192, 3, 3), (1488,), (1488,), (192, 1488, 1, 1), (192,), (192,), (48, 192, 3, 3), (1536,), (1536,), (192, 1536, 1, 1), (192,), (192,), (48, 192, 3, 3), (1584,), (1584,), (192, 1584, 1, 1), (192,), (192,), (48, 192, 3, 3), (1632,), (1632,), (192, 1632, 1, 1), (192,), (192,), (48, 192, 3, 3), (1680,), (1680,), (192, 1680, 1, 1), (192,), (192,), (48, 192, 3, 3), (1728,), (1728,), (192, 1728, 1, 1), (192,), (192,), (48, 192, 3, 3), (1776,), (1776,), (192, 1776, 1, 1), (192,), (192,), (48, 192, 3, 3), (1824,), (1824,), (192, 1824, 1, 1), (192,), (192,), (48, 192, 3, 3), (1872,), (1872,), (192, 1872, 1, 1), (192,), (192,), (48, 192, 3, 3), (1920,), (1920,), (192, 1920, 1, 1), (192,), (192,), (48, 192, 3, 3), (1968,), (1968,), (192, 1968, 1, 1), (192,), (192,), (48, 192, 3, 3), (2016,), (2016,), (192, 2016, 1, 1), (192,), (192,), (48, 192, 3, 3), (2064,), (2064,), (192, 2064, 1, 1), (192,), (192,), (48, 192, 3, 3), (2112,), (2112,), (192, 2112, 1, 1), (192,), (192,), (48, 192, 3, 3), (2160,), (2160,), (192, 2160, 1, 1), (192,), (192,), (48, 192, 3, 3), (2208,), (2208,)), parameters=26472000\n",
      "  (mrnd): MyDenseNetDens(\n",
      "    (dens1): Linear(in_features=2208, out_features=512)\n",
      "    (dens2): Linear(in_features=512, out_features=128)\n",
      "    (dens3): Linear(in_features=128, out_features=10)\n",
      "  ), weights=((512, 2208), (512,), (128, 512), (128,), (10, 128), (10,)), parameters=1197962\n",
      ")\n"
     ]
    }
   ],
   "source": [
    "print(torch_summarize(model))"
   ]
  },
  {
   "cell_type": "markdown",
   "metadata": {},
   "source": [
    "# Loading best model"
   ]
  },
  {
   "cell_type": "code",
   "execution_count": 25,
   "metadata": {
    "collapsed": false
   },
   "outputs": [],
   "source": [
    "trainer.load_state(path2saveModel)\n",
    "model.mrnd = trainer.model"
   ]
  },
  {
   "cell_type": "code",
   "execution_count": 26,
   "metadata": {
    "collapsed": false
   },
   "outputs": [
    {
     "name": "stdout",
     "output_type": "stream",
     "text": [
      "done!\n"
     ]
    }
   ],
   "source": [
    "metrics2csv(trainer, model_name)"
   ]
  },
  {
   "cell_type": "code",
   "execution_count": 27,
   "metadata": {
    "collapsed": false
   },
   "outputs": [
    {
     "name": "stdout",
     "output_type": "stream",
     "text": [
      "evaluate: 560/560 ok\n",
      "evaluate: 140/140 ok\n"
     ]
    }
   ],
   "source": [
    "train_eval = trainer.evaluate_loader(dset_loaders_convnet['train'])\n",
    "valid_eval = trainer.evaluate_loader(dset_loaders_convnet['valid'])"
   ]
  },
  {
   "cell_type": "code",
   "execution_count": 28,
   "metadata": {
    "collapsed": false
   },
   "outputs": [
    {
     "data": {
      "text/plain": [
       "({'losses': 0.006496452813433486}, {'losses': 0.08461422145526182})"
      ]
     },
     "execution_count": 28,
     "metadata": {},
     "output_type": "execute_result"
    }
   ],
   "source": [
    "train_eval, valid_eval"
   ]
  },
  {
   "cell_type": "markdown",
   "metadata": {},
   "source": [
    "# Dataset without shuffling "
   ]
  },
  {
   "cell_type": "markdown",
   "metadata": {},
   "source": [
    "#### Utilized to plot mismatch cases"
   ]
  },
  {
   "cell_type": "code",
   "execution_count": 31,
   "metadata": {
    "collapsed": true
   },
   "outputs": [],
   "source": [
    "path2train = \"/home/Prashanth/dl4cv-project/data/train\"  "
   ]
  },
  {
   "cell_type": "code",
   "execution_count": 32,
   "metadata": {
    "collapsed": false
   },
   "outputs": [
    {
     "name": "stderr",
     "output_type": "stream",
     "text": [
      "/home/Prashanth/anaconda3/lib/python3.5/site-packages/torchvision/transforms/transforms.py:156: UserWarning: The use of the transforms.Scale transform is deprecated, please use transforms.Resize instead.\n",
      "  \"please use transforms.Resize instead.\")\n"
     ]
    }
   ],
   "source": [
    "imagenet_mean = np.array([0.485, 0.456, 0.406])\n",
    "imagenet_std  = np.array([0.229, 0.224, 0.225])\n",
    "\n",
    "img_width = img_height=300 #to use InceptionV3 it must img_width and img_height be changed to 300\n",
    "\n",
    "# Data augmentation and normalization for training \n",
    "data_transforms = {\n",
    "    'valid': transforms.Compose([\n",
    "        transforms.Scale((img_width, img_height)),\n",
    "        transforms.ToTensor(),\n",
    "        transforms.Normalize(imagenet_mean, imagenet_std),\n",
    "    ]),\n",
    "}   "
   ]
  },
  {
   "cell_type": "code",
   "execution_count": 33,
   "metadata": {
    "collapsed": true
   },
   "outputs": [],
   "source": [
    "batch_size = 32\n",
    "use_only = 1.0 # Use only is the percentage of the full dataset"
   ]
  },
  {
   "cell_type": "code",
   "execution_count": 34,
   "metadata": {
    "collapsed": true
   },
   "outputs": [],
   "source": [
    "dsets = {\n",
    "    'valid': KaggleSafeDriverDataset(path2train,\n",
    "                                     transforms=data_transforms['valid'],\n",
    "                                     use_only=use_only, is_val=True, val_size=0.2),\n",
    "}"
   ]
  },
  {
   "cell_type": "code",
   "execution_count": 35,
   "metadata": {
    "collapsed": false
   },
   "outputs": [],
   "source": [
    "\n",
    "dset_loaders_wshuffle = _create_dataLoader(dsets, batch_size,\n",
    "                                           pin_memory=False, use_shuffle= False)"
   ]
  },
  {
   "cell_type": "markdown",
   "metadata": {},
   "source": [
    "# Evaluating resultings "
   ]
  },
  {
   "cell_type": "code",
   "execution_count": 36,
   "metadata": {
    "collapsed": false
   },
   "outputs": [
    {
     "name": "stdout",
     "output_type": "stream",
     "text": [
      "predict: 560/560 ok\n",
      "Execution time 0.00 s\n",
      "predict: 140/140 ok\n",
      "Execution time 184.00 s\n",
      "predict: 2491/2491 ok\n",
      "Execution time 2.00 s\n"
     ]
    }
   ],
   "source": [
    "#we need to use all dloader, because this one has use_shuffle false\n",
    "result_train = predict(dset_loaders_convnet['train'], model.mrnd, use_gpu=use_gpu)\n",
    "\n",
    "result_valid = predict(dset_loaders_wshuffle['valid'], model, use_gpu=use_gpu)\n",
    "\n",
    "result_test = predict(dset_loaders_convnet['test'], model.mrnd, use_gpu=use_gpu)"
   ]
  },
  {
   "cell_type": "code",
   "execution_count": 37,
   "metadata": {
    "collapsed": true
   },
   "outputs": [],
   "source": [
    "predictions_out = {'train': (result_train['pred'], result_train['true'], model_name),\n",
    "                   'valid': (result_valid['pred'], result_valid['true'], model_name),\n",
    "                   'test': (result_test['pred'], result_test['true'], model_name)}"
   ]
  },
  {
   "cell_type": "code",
   "execution_count": 38,
   "metadata": {
    "collapsed": true
   },
   "outputs": [],
   "source": [
    "path2results = './results/'"
   ]
  },
  {
   "cell_type": "code",
   "execution_count": 39,
   "metadata": {
    "collapsed": false
   },
   "outputs": [
    {
     "name": "stdout",
     "output_type": "stream",
     "text": [
      "\n",
      "Saving DenseNetRandomSearch valid\n",
      "Saved in:./results/valid/DenseNetRandomSearch.npz\n",
      "\n",
      "Saving DenseNetRandomSearch test\n",
      "Saved in:./results/test/DenseNetRandomSearch.npz\n",
      "\n",
      "Saving DenseNetRandomSearch train\n",
      "Saved in:./results/train/DenseNetRandomSearch.npz\n"
     ]
    }
   ],
   "source": [
    "save_prediction(path2results,predictions_out)"
   ]
  },
  {
   "cell_type": "code",
   "execution_count": 40,
   "metadata": {
    "collapsed": true
   },
   "outputs": [],
   "source": [
    "result_train = getPrediction(result_train)\n",
    "result_valid = getPrediction(result_valid)\n",
    "# result_test['pred'] must be an array of probabilities to make the submission"
   ]
  },
  {
   "cell_type": "code",
   "execution_count": 41,
   "metadata": {
    "collapsed": true
   },
   "outputs": [],
   "source": [
    "correct_train = (result_train['true'] == result_train['pred']).sum()\n",
    "correct_valid = (result_valid['true'] == result_valid['pred']).sum()"
   ]
  },
  {
   "cell_type": "code",
   "execution_count": 42,
   "metadata": {
    "collapsed": false
   },
   "outputs": [
    {
     "name": "stdout",
     "output_type": "stream",
     "text": [
      "Train:  17904 / 17940\n",
      "Valid:  4433 / 4484\n"
     ]
    }
   ],
   "source": [
    "print('Train: ', correct_train, '/', '17940' )# len(dsets['train'])\n",
    "print('Valid: ', correct_valid, '/', '4484' ) # len(dsets['valid'])"
   ]
  },
  {
   "cell_type": "markdown",
   "metadata": {},
   "source": [
    "# Make submission of the Test set"
   ]
  },
  {
   "cell_type": "code",
   "execution_count": 43,
   "metadata": {
    "collapsed": false
   },
   "outputs": [
    {
     "name": "stderr",
     "output_type": "stream",
     "text": [
      "/home/Prashanth/anaconda3/lib/python3.5/site-packages/ipykernel/__main__.py:6: UserWarning: Implicit dimension choice for softmax has been deprecated. Change the call to include dim=X as an argument.\n"
     ]
    },
    {
     "name": "stdout",
     "output_type": "stream",
     "text": [
      "done!\n"
     ]
    }
   ],
   "source": [
    "import pandas as pd\n",
    "import datetime\n",
    "import os\n",
    "from torch.nn.functional import softmax\n",
    "from torch.autograd import Variable\n",
    "predictions = softmax(Variable(result_test['pred'])).cpu().data.numpy().tolist()\n",
    "predictions = np.around(predictions, decimals=3)\n",
    "predictions = np.clip(predictions, 0.001, 0.999) \n",
    "\n",
    "test_id = result_test['true'].tolist()\n",
    "for i in range(0, len(test_id)):\n",
    "    test_id[i] = 'img_'+ str(test_id[i]) + '.jpg'\n",
    "\n",
    "result_sample = pd.DataFrame(predictions, columns=['c0', 'c1', 'c2', 'c3', 'c4', 'c5', 'c6', 'c7', 'c8', 'c9'])\n",
    "result_sample.loc[:, 'img'] = pd.Series(test_id, index=result_sample.index)\n",
    "\n",
    "cols = result_sample.columns.tolist()\n",
    "cols = cols[-1:] + cols[:-1]\n",
    "\n",
    "result_sample = result_sample[cols]\n",
    "now = datetime.datetime.now()\n",
    "if not os.path.isdir('subm'):\n",
    "    os.mkdir('subm')\n",
    "suffix = model_name + '_distracted_driver' + '_' + str(now.strftime(\"%Y-%m-%d-%H-%M\"))\n",
    "sub_file = os.path.join('subm', 'submission_' + suffix + '.csv')\n",
    "result_sample.to_csv(sub_file, index=False)\n",
    "print('done!')\n",
    "#create_submission(result_test, model_name + '_distracted_driver')"
   ]
  },
  {
   "cell_type": "code",
   "execution_count": null,
   "metadata": {
    "collapsed": true
   },
   "outputs": [],
   "source": []
  }
 ],
 "metadata": {
  "kernelspec": {
   "display_name": "Python 3",
   "language": "python",
   "name": "python3"
  },
  "language_info": {
   "codemirror_mode": {
    "name": "ipython",
    "version": 3
   },
   "file_extension": ".py",
   "mimetype": "text/x-python",
   "name": "python",
   "nbconvert_exporter": "python",
   "pygments_lexer": "ipython3",
   "version": "3.5.4"
  }
 },
 "nbformat": 4,
 "nbformat_minor": 2
}
